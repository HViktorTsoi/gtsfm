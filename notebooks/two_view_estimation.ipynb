{
 "cells": [
  {
   "cell_type": "markdown",
   "metadata": {},
   "source": [
    "# Two-View Estimator\n",
    "\n",
    "> Ayush Baid, Frank Dellaert\n",
    "\n",
    "A notebook to investigate the TwoViewEstimator performance."
   ]
  },
  {
   "cell_type": "code",
   "execution_count": 2,
   "metadata": {},
   "outputs": [],
   "source": [
    "import gtsam\n",
    "import numpy as np\n",
    "from gtsam import Cal3Bundler, EssentialMatrix, Pose3, Unit3\n",
    "\n",
    "import gtsfm.utils.geometry_comparisons as comp_utils\n",
    "import gtsfm.utils.io as io_utils\n",
    "from gtsfm.two_view_estimator import TwoViewEstimator\n",
    "from gtsfm.common.keypoints import Keypoints\n",
    "\n",
    "GTSAM_EXAMPLE_FILE = \"5pointExample1.txt\"\n",
    "EXAMPLE_DATA = io_utils.read_bal(gtsam.findExampleDataFile(GTSAM_EXAMPLE_FILE))"
   ]
  },
  {
   "cell_type": "code",
   "execution_count": 3,
   "metadata": {},
   "outputs": [],
   "source": [
    "# Create estimator\n",
    "two_view_estimator = TwoViewEstimator(\n",
    "    matcher=None, verifier=None, inlier_support_processor=None,\n",
    "    bundle_adjust_2view=True, eval_threshold_px=4\n",
    ")"
   ]
  },
  {
   "cell_type": "code",
   "execution_count": 4,
   "metadata": {},
   "outputs": [
    {
     "data": {
      "text/plain": [
       "<gtsfm.two_view_estimator.TwoViewEstimator at 0x285f432e0>"
      ]
     },
     "execution_count": 4,
     "metadata": {},
     "output_type": "execute_result"
    }
   ],
   "source": [
    "two_view_estimator"
   ]
  },
  {
   "cell_type": "code",
   "execution_count": 5,
   "metadata": {},
   "outputs": [],
   "source": [
    "# Extract example poses.\n",
    "i1Ri2 = EXAMPLE_DATA.get_camera(1).pose().rotation()\n",
    "i1ti2 = EXAMPLE_DATA.get_camera(1).pose().translation()\n",
    "i2Ti1 = Pose3(i1Ri2, i1ti2).inverse()\n",
    "i2Ei1 = EssentialMatrix(i2Ti1.rotation(), Unit3(i2Ti1.translation()))"
   ]
  },
  {
   "cell_type": "code",
   "execution_count": 6,
   "metadata": {},
   "outputs": [],
   "source": [
    "# Prepare tracks from the measurements.\n",
    "num_points = 5\n",
    "normalized_coordinates_i1 = []\n",
    "normalized_coordinates_i2 = []\n",
    "for i in range(num_points):\n",
    "    track = EXAMPLE_DATA.get_track(i)\n",
    "    normalized_coordinates_i1.append(track.measurement(0)[1])\n",
    "    normalized_coordinates_i2.append(track.measurement(1)[1])\n",
    "normalized_coordinates_i1 = np.array(normalized_coordinates_i1)\n",
    "normalized_coordinates_i2 = np.array(normalized_coordinates_i2)"
   ]
  },
  {
   "cell_type": "code",
   "execution_count": 7,
   "metadata": {},
   "outputs": [
    {
     "name": "stdout",
     "output_type": "stream",
     "text": [
      "[2022-05-06 14:38:05,602 DEBUG two_view_estimator.py line 172 71509] Performed DA in 0.001238 seconds.\n",
      "[2022-05-06 14:38:05,603 INFO bundle_adjustment.py line 193 71509] Input: 5 tracks on 2 cameras\n",
      "\n",
      "[2022-05-06 14:38:05,609 INFO bundle_adjustment.py line 226 71509] [Result] Number of tracks after filtering: 5\n",
      "[2022-05-06 14:38:05,610 DEBUG two_view_estimator.py line 187 71509] Performed 2-view BA in 0.007150 seconds.\n"
     ]
    }
   ],
   "source": [
    "# Perform bundle adjustment.\n",
    "i2Ri1_optimized, i2Ui1_optimized, corr_idxs = two_view_estimator.bundle_adjust(\n",
    "    keypoints_i1=Keypoints(normalized_coordinates_i1),\n",
    "    keypoints_i2=Keypoints(normalized_coordinates_i2),\n",
    "    verified_corr_idxs=np.hstack(\n",
    "        [np.arange(normalized_coordinates_i1.shape[0]).reshape(-1, 1)] * 2),\n",
    "    camera_intrinsics_i1=Cal3Bundler(),\n",
    "    camera_intrinsics_i2=Cal3Bundler(),\n",
    "    i2Ri1_initial=i2Ei1.rotation(),\n",
    "    i2Ui1_initial=i2Ei1.direction(),\n",
    ")"
   ]
  },
  {
   "cell_type": "code",
   "execution_count": 8,
   "metadata": {},
   "outputs": [],
   "source": [
    "# Assert\n",
    "rotation_angular_error = comp_utils.compute_relative_rotation_angle(\n",
    "    i2Ri1_optimized, i2Ei1.rotation())\n",
    "translation_angular_error = comp_utils.compute_relative_unit_translation_angle(\n",
    "    i2Ui1_optimized, i2Ei1.direction()\n",
    ")\n",
    "assert rotation_angular_error <= 1\n",
    "assert translation_angular_error <= 1\n",
    "assert np.allclose(\n",
    "    corr_idxs, np.hstack(\n",
    "        [np.arange(normalized_coordinates_i1.shape[0]).reshape(-1, 1)] * 2)\n",
    ")"
   ]
  },
  {
   "cell_type": "code",
   "execution_count": null,
   "metadata": {},
   "outputs": [],
   "source": []
  }
 ],
 "metadata": {
  "interpreter": {
   "hash": "4fd427e5d3afc8e77fd80f60207859a2afe2c687da56f6de3914baf61d886f83"
  },
  "kernelspec": {
   "display_name": "Python 3.8.13 ('gtsfm-v1')",
   "language": "python",
   "name": "python3"
  },
  "language_info": {
   "codemirror_mode": {
    "name": "ipython",
    "version": 3
   },
   "file_extension": ".py",
   "mimetype": "text/x-python",
   "name": "python",
   "nbconvert_exporter": "python",
   "pygments_lexer": "ipython3",
   "version": "3.8.13"
  },
  "orig_nbformat": 4
 },
 "nbformat": 4,
 "nbformat_minor": 2
}
